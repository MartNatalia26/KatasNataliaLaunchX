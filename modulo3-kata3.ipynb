{
 "cells": [
  {
   "cell_type": "markdown",
   "metadata": {},
   "source": [
    "EJERCICION 1:\n",
    "SENTENCIA DE CONTROL IF"
   ]
  },
  {
   "cell_type": "code",
   "execution_count": 1,
   "metadata": {},
   "outputs": [
    {
     "name": "stdout",
     "output_type": "stream",
     "text": [
      "Terrícola cuidado advertencia se acerca un asteroide que puede tener un impacto fatal\n"
     ]
    }
   ],
   "source": [
    "i_asteroide = 49\n",
    "i_velocidadsuperios = 25\n",
    "\n",
    "if i_asteroide > i_velocidadsuperios:\n",
    "    print('Terrícola cuidado advertencia', 'se acerca un asteroide que puede tener un impacto fatal')\n",
    "else:\n",
    "    print('Terrícola todo bien no impactara el asteroide en el planeta tierra')"
   ]
  },
  {
   "cell_type": "markdown",
   "metadata": {},
   "source": [
    "EJERCICIO 2 : SENTENCIA DE CONTROL IF"
   ]
  },
  {
   "cell_type": "code",
   "execution_count": 2,
   "metadata": {},
   "outputs": [
    {
     "name": "stdout",
     "output_type": "stream",
     "text": [
      "Terrícola todo bien no impactara el asteroide en el planeta tierra\n"
     ]
    }
   ],
   "source": [
    "i_asteroide = 19\n",
    "i_velocidadsuperios = 20\n",
    "if i_asteroide > 20:\n",
    "    print('Aguas Terricola, la luz esta demasiado radiante en el cielo!')\n",
    "elif i_asteroide == 20:\n",
    "    print('Terricola la luz esta demasiado radiante en el cielo')\n",
    "else:\n",
    "    print('Terrícola todo bien no impactara el asteroide en el planeta tierra')"
   ]
  },
  {
   "cell_type": "markdown",
   "metadata": {},
   "source": [
    "EJERCICIO 3: SENTENCIA DE CONTROL IF"
   ]
  },
  {
   "cell_type": "code",
   "execution_count": 3,
   "metadata": {},
   "outputs": [
    {
     "name": "stdout",
     "output_type": "stream",
     "text": [
      "Terricola la luz esta demasiado radiante en el cielo\n"
     ]
    }
   ],
   "source": [
    "i_velocidadasteroide = 25\n",
    "i_tamanoasteroide = 40\n",
    "if i_velocidadasteroide > 25 and i_tamanoasteroide > 25:\n",
    "    print('¡terricola, un asteroide golpeara la tierra causara mucho daño!')\n",
    "elif i_velocidadasteroide >= 20:\n",
    "    print('¡Terricola la luz esta demasiado radiante en el cielo!')\n",
    "elif i_tamanoasteroide < 25:\n",
    "    print('Terrícola todo bien no impactara el asteroide en el planeta tierra')\n",
    "else:\n",
    "    print('Terrícola todo bien no impactara el asteroide en el planeta tierra')"
   ]
  }
 ],
 "metadata": {
  "interpreter": {
   "hash": "3692f9096057767b0e52390c3c0926642c2dfe068f380aa7482747b49bf81eb7"
  },
  "kernelspec": {
   "display_name": "Python 3.10.2 64-bit",
   "language": "python",
   "name": "python3"
  },
  "language_info": {
   "codemirror_mode": {
    "name": "ipython",
    "version": 3
   },
   "file_extension": ".py",
   "mimetype": "text/x-python",
   "name": "python",
   "nbconvert_exporter": "python",
   "pygments_lexer": "ipython3",
   "version": "3.10.2"
  },
  "orig_nbformat": 4
 },
 "nbformat": 4,
 "nbformat_minor": 2
}
