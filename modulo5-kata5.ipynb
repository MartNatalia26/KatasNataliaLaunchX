{
 "cells": [
  {
   "cell_type": "markdown",
   "metadata": {},
   "source": [
    "EJERCICIO 1: OPERADORES ARITMETICOS"
   ]
  },
  {
   "cell_type": "code",
   "execution_count": null,
   "metadata": {},
   "outputs": [],
   "source": [
    "i_tierra = 1495978709\n",
    "i_jupiter = 778547200\n",
    "\n",
    "\n",
    "distancia_planetaria = i_jupiter - i_tierra\n",
    "print(distancia_planetaria)\n",
    "\n",
    "distancia_planetaria = distancia_planetaria * 0.621\n",
    "print(distancia_planetaria)\n"
   ]
  },
  {
   "cell_type": "markdown",
   "metadata": {},
   "source": [
    "EJERCICIO 2: \n"
   ]
  },
  {
   "cell_type": "code",
   "execution_count": 11,
   "metadata": {},
   "outputs": [],
   "source": [
    "i_tierra = input('Introduzca la distancia del sol para el planeta tierra en KM')\n",
    "i_jupiter = input('Introduzca la distancia desde el sol jupiter en KM')\n",
    "\n",
    "i_tierra = int(i_tierra)\n",
    "i_jupiter = int(i_jupiter)\n"
   ]
  },
  {
   "cell_type": "code",
   "execution_count": 12,
   "metadata": {},
   "outputs": [
    {
     "name": "stdout",
     "output_type": "stream",
     "text": [
      "91\n",
      "56.511\n"
     ]
    }
   ],
   "source": [
    "distancia_planetaria = i_jupiter - i_tierra\n",
    "print(distancia_planetaria)\n",
    "\n",
    "\n",
    "distancia = distancia_planetaria * 0.621\n",
    "print(abs(distancia))"
   ]
  }
 ],
 "metadata": {
  "interpreter": {
   "hash": "3692f9096057767b0e52390c3c0926642c2dfe068f380aa7482747b49bf81eb7"
  },
  "kernelspec": {
   "display_name": "Python 3.10.2 64-bit",
   "language": "python",
   "name": "python3"
  },
  "language_info": {
   "codemirror_mode": {
    "name": "ipython",
    "version": 3
   },
   "file_extension": ".py",
   "mimetype": "text/x-python",
   "name": "python",
   "nbconvert_exporter": "python",
   "pygments_lexer": "ipython3",
   "version": "3.10.2"
  },
  "orig_nbformat": 4
 },
 "nbformat": 4,
 "nbformat_minor": 2
}
