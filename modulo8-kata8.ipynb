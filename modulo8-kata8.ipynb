{
 "cells": [
  {
   "cell_type": "markdown",
   "metadata": {},
   "source": [
    "EJERCICIO 1: CREACION DE DIRECCIONES DE PYTHON"
   ]
  },
  {
   "cell_type": "code",
   "execution_count": 1,
   "metadata": {},
   "outputs": [
    {
     "name": "stdout",
     "output_type": "stream",
     "text": [
      "Marte tiene 2 lunas\n",
      "Marte tiene una circunferencia de 6752 km\n"
     ]
    }
   ],
   "source": [
    "s_planeta = {\n",
    "    'nombre': 'Marte',\n",
    "    'lunas': 2 \n",
    "}\n",
    "\n",
    "print(f'{s_planeta[\"nombre\"]} tiene {s_planeta[\"lunas\"]} lunas')\n",
    "\n",
    "s_planeta['cincunferencia (km)'] = {\n",
    "    'polar': 6752,\n",
    "    'ecuatorial': 6792\n",
    "} \n",
    "\n",
    "print(f'{s_planeta[\"nombre\"]} tiene una circunferencia de {s_planeta[\"cincunferencia (km)\"][\"polar\"]} km')"
   ]
  },
  {
   "cell_type": "markdown",
   "metadata": {},
   "source": [
    "EJERCICIO 2: PROGRAMACIÓN DINÁMICA CON DICCIONARIOS"
   ]
  },
  {
   "cell_type": "code",
   "execution_count": 2,
   "metadata": {},
   "outputs": [
    {
     "name": "stdout",
     "output_type": "stream",
     "text": [
      "17.833333333333332\n"
     ]
    }
   ],
   "source": [
    "planet_moons = {\n",
    "    'mercury': 0,\n",
    "    'venus': 0,\n",
    "    'earth': 1,\n",
    "    'mars': 2,\n",
    "    'jupiter': 79,\n",
    "    'saturn': 82,\n",
    "    'uranus': 27,\n",
    "    'neptune': 14,\n",
    "    'pluto': 5,\n",
    "    'haumea': 2,\n",
    "    'makemake': 1,\n",
    "    'eris': 1\n",
    "}\n",
    "\n",
    "moons = planet_moons.values()\n",
    "\n",
    "planets = len(planet_moons)\n",
    "\n",
    "total_moons = 0\n",
    "\n",
    "for moon in moons:\n",
    "    total_moons = total_moons + moon\n",
    "    \n",
    "average = total_moons / planets\n",
    "\n",
    "print(average)"
   ]
  }
 ],
 "metadata": {
  "interpreter": {
   "hash": "3692f9096057767b0e52390c3c0926642c2dfe068f380aa7482747b49bf81eb7"
  },
  "kernelspec": {
   "display_name": "Python 3.10.2 64-bit",
   "language": "python",
   "name": "python3"
  },
  "language_info": {
   "codemirror_mode": {
    "name": "ipython",
    "version": 3
   },
   "file_extension": ".py",
   "mimetype": "text/x-python",
   "name": "python",
   "nbconvert_exporter": "python",
   "pygments_lexer": "ipython3",
   "version": "3.10.2"
  },
  "orig_nbformat": 4
 },
 "nbformat": 4,
 "nbformat_minor": 2
}
